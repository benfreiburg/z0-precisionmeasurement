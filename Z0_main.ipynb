{
 "cells": [
  {
   "cell_type": "code",
   "execution_count": 1,
   "metadata": {
    "collapsed": false,
    "scrolled": true
   },
   "outputs": [
    {
     "name": "stdout",
     "output_type": "stream",
     "text": [
      "Defaulting to user installation because normal site-packages is not writeable\r\n"
     ]
    },
    {
     "name": "stdout",
     "output_type": "stream",
     "text": [
      "Requirement already satisfied: seaborn in /projects/1108709f-2e8c-4e84-af0d-3a68ef8a314e/.sage/local/lib/python3.8/site-packages (0.11.1)\r\n",
      "Requirement already satisfied: scipy>=1.0 in /projects/1108709f-2e8c-4e84-af0d-3a68ef8a314e/.sage/local/lib/python3.8/site-packages (from seaborn) (1.6.1)\r\n",
      "Requirement already satisfied: matplotlib>=2.2 in /projects/1108709f-2e8c-4e84-af0d-3a68ef8a314e/.sage/local/lib/python3.8/site-packages (from seaborn) (3.3.4)\r\n",
      "Requirement already satisfied: numpy>=1.15 in /projects/1108709f-2e8c-4e84-af0d-3a68ef8a314e/.sage/local/lib/python3.8/site-packages (from seaborn) (1.20.1)\r\n",
      "Requirement already satisfied: pandas>=0.23 in /projects/1108709f-2e8c-4e84-af0d-3a68ef8a314e/.sage/local/lib/python3.8/site-packages (from seaborn) (1.2.3)\r\n",
      "Requirement already satisfied: pyparsing!=2.0.4,!=2.1.2,!=2.1.6,>=2.0.3 in /usr/local/sage/local/lib/python3.8/site-packages (from matplotlib>=2.2->seaborn) (2.3.0)\r\n",
      "Requirement already satisfied: python-dateutil>=2.1 in /usr/local/sage/local/lib/python3.8/site-packages (from matplotlib>=2.2->seaborn) (2.8.1)\r\n"
     ]
    },
    {
     "name": "stdout",
     "output_type": "stream",
     "text": [
      "Requirement already satisfied: pillow>=6.2.0 in /usr/local/sage/local/lib/python3.8/site-packages (from matplotlib>=2.2->seaborn) (7.2.0)\r\n",
      "Requirement already satisfied: kiwisolver>=1.0.1 in /usr/local/sage/local/lib/python3.8/site-packages (from matplotlib>=2.2->seaborn) (1.0.1)\r\n",
      "Requirement already satisfied: cycler>=0.10 in /usr/local/sage/local/lib/python3.8/site-packages (from matplotlib>=2.2->seaborn) (0.10.0)\r\n",
      "Requirement already satisfied: pytz>=2017.3 in /usr/local/sage/local/lib/python3.8/site-packages (from pandas>=0.23->seaborn) (2020.1)\r\n",
      "Requirement already satisfied: six>=1.5 in /usr/local/sage/local/lib/python3.8/site-packages (from python-dateutil>=2.1->matplotlib>=2.2->seaborn) (1.15.0)\r\n",
      "Requirement already satisfied: setuptools in /usr/local/sage/local/lib/python3.8/site-packages (from kiwisolver>=1.0.1->matplotlib>=2.2->seaborn) (49.6.0)\r\n"
     ]
    },
    {
     "name": "stdout",
     "output_type": "stream",
     "text": [
      "\u001b[33mWARNING: You are using pip version 20.2.3; however, version 21.0.1 is available.\r\n",
      "You should consider upgrading via the '/usr/local/sage/local/bin/python3 -m pip install --upgrade pip' command.\u001b[0m\r\n"
     ]
    },
    {
     "name": "stdout",
     "output_type": "stream",
     "text": [
      "Note: you may need to restart the kernel to use updated packages.\n"
     ]
    },
    {
     "name": "stdout",
     "output_type": "stream",
     "text": [
      "Defaulting to user installation because normal site-packages is not writeable\r\n"
     ]
    },
    {
     "name": "stdout",
     "output_type": "stream",
     "text": [
      "Requirement already satisfied: uproot in /projects/1108709f-2e8c-4e84-af0d-3a68ef8a314e/.sage/local/lib/python3.8/site-packages (4.0.6)\r\n"
     ]
    },
    {
     "name": "stdout",
     "output_type": "stream",
     "text": [
      "Requirement already satisfied: numpy in /projects/1108709f-2e8c-4e84-af0d-3a68ef8a314e/.sage/local/lib/python3.8/site-packages (from uproot) (1.20.1)\r\n"
     ]
    },
    {
     "name": "stdout",
     "output_type": "stream",
     "text": [
      "\u001b[33mWARNING: You are using pip version 20.2.3; however, version 21.0.1 is available.\r\n",
      "You should consider upgrading via the '/usr/local/sage/local/bin/python3 -m pip install --upgrade pip' command.\u001b[0m\r\n"
     ]
    },
    {
     "name": "stdout",
     "output_type": "stream",
     "text": [
      "Note: you may need to restart the kernel to use updated packages.\n"
     ]
    },
    {
     "name": "stdout",
     "output_type": "stream",
     "text": [
      "Defaulting to user installation because normal site-packages is not writeable\r\n"
     ]
    },
    {
     "name": "stdout",
     "output_type": "stream",
     "text": [
      "Requirement already satisfied: awkward in /projects/1108709f-2e8c-4e84-af0d-3a68ef8a314e/.sage/local/lib/python3.8/site-packages (1.1.2)\r\n"
     ]
    },
    {
     "name": "stdout",
     "output_type": "stream",
     "text": [
      "Requirement already satisfied: numpy>=1.13.1 in /projects/1108709f-2e8c-4e84-af0d-3a68ef8a314e/.sage/local/lib/python3.8/site-packages (from awkward) (1.20.1)\r\n",
      "Requirement already satisfied: setuptools in /usr/local/sage/local/lib/python3.8/site-packages (from awkward) (49.6.0)\r\n"
     ]
    },
    {
     "name": "stdout",
     "output_type": "stream",
     "text": [
      "\u001b[33mWARNING: You are using pip version 20.2.3; however, version 21.0.1 is available.\r\n",
      "You should consider upgrading via the '/usr/local/sage/local/bin/python3 -m pip install --upgrade pip' command.\u001b[0m\r\n"
     ]
    },
    {
     "name": "stdout",
     "output_type": "stream",
     "text": [
      "Note: you may need to restart the kernel to use updated packages.\n"
     ]
    },
    {
     "name": "stdout",
     "output_type": "stream",
     "text": [
      "Defaulting to user installation because normal site-packages is not writeable\r\n"
     ]
    },
    {
     "name": "stdout",
     "output_type": "stream",
     "text": [
      "Requirement already satisfied: mplhep in /projects/1108709f-2e8c-4e84-af0d-3a68ef8a314e/.sage/local/lib/python3.8/site-packages (0.2.18)\r\n"
     ]
    },
    {
     "name": "stdout",
     "output_type": "stream",
     "text": [
      "Requirement already satisfied: requests~=2.21 in /projects/1108709f-2e8c-4e84-af0d-3a68ef8a314e/.sage/local/lib/python3.8/site-packages (from mplhep) (2.25.1)\r\n",
      "Requirement already satisfied: matplotlib>=3.1 in /projects/1108709f-2e8c-4e84-af0d-3a68ef8a314e/.sage/local/lib/python3.8/site-packages (from mplhep) (3.3.4)\r\n",
      "Requirement already satisfied: numpy>=1.16.0 in /projects/1108709f-2e8c-4e84-af0d-3a68ef8a314e/.sage/local/lib/python3.8/site-packages (from mplhep) (1.20.1)\r\n",
      "Requirement already satisfied: scipy>=1.1.0 in /projects/1108709f-2e8c-4e84-af0d-3a68ef8a314e/.sage/local/lib/python3.8/site-packages (from mplhep) (1.6.1)\r\n",
      "Requirement already satisfied: packaging in /usr/local/sage/local/lib/python3.8/site-packages (from mplhep) (18.0)\r\n",
      "Requirement already satisfied: certifi>=2017.4.17 in /usr/local/sage/local/lib/python3.8/site-packages (from requests~=2.21->mplhep) (2020.6.20)\r\n",
      "Requirement already satisfied: idna<3,>=2.5 in /projects/1108709f-2e8c-4e84-af0d-3a68ef8a314e/.sage/local/lib/python3.8/site-packages (from requests~=2.21->mplhep) (2.10)\r\n",
      "Requirement already satisfied: urllib3<1.27,>=1.21.1 in /projects/1108709f-2e8c-4e84-af0d-3a68ef8a314e/.sage/local/lib/python3.8/site-packages (from requests~=2.21->mplhep) (1.26.4)\r\n"
     ]
    },
    {
     "name": "stdout",
     "output_type": "stream",
     "text": [
      "Requirement already satisfied: chardet<5,>=3.0.2 in /projects/1108709f-2e8c-4e84-af0d-3a68ef8a314e/.sage/local/lib/python3.8/site-packages (from requests~=2.21->mplhep) (4.0.0)\r\n",
      "Requirement already satisfied: pillow>=6.2.0 in /usr/local/sage/local/lib/python3.8/site-packages (from matplotlib>=3.1->mplhep) (7.2.0)\r\n",
      "Requirement already satisfied: python-dateutil>=2.1 in /usr/local/sage/local/lib/python3.8/site-packages (from matplotlib>=3.1->mplhep) (2.8.1)\r\n",
      "Requirement already satisfied: pyparsing!=2.0.4,!=2.1.2,!=2.1.6,>=2.0.3 in /usr/local/sage/local/lib/python3.8/site-packages (from matplotlib>=3.1->mplhep) (2.3.0)\r\n",
      "Requirement already satisfied: cycler>=0.10 in /usr/local/sage/local/lib/python3.8/site-packages (from matplotlib>=3.1->mplhep) (0.10.0)\r\n",
      "Requirement already satisfied: kiwisolver>=1.0.1 in /usr/local/sage/local/lib/python3.8/site-packages (from matplotlib>=3.1->mplhep) (1.0.1)\r\n",
      "Requirement already satisfied: six in /usr/local/sage/local/lib/python3.8/site-packages (from packaging->mplhep) (1.15.0)\r\n",
      "Requirement already satisfied: setuptools in /usr/local/sage/local/lib/python3.8/site-packages (from kiwisolver>=1.0.1->matplotlib>=3.1->mplhep) (49.6.0)\r\n"
     ]
    },
    {
     "name": "stdout",
     "output_type": "stream",
     "text": [
      "\u001b[33mWARNING: You are using pip version 20.2.3; however, version 21.0.1 is available.\r\n",
      "You should consider upgrading via the '/usr/local/sage/local/bin/python3 -m pip install --upgrade pip' command.\u001b[0m\r\n"
     ]
    },
    {
     "name": "stdout",
     "output_type": "stream",
     "text": [
      "Note: you may need to restart the kernel to use updated packages.\n"
     ]
    },
    {
     "name": "stdout",
     "output_type": "stream",
     "text": [
      "Defaulting to user installation because normal site-packages is not writeable\r\n"
     ]
    },
    {
     "name": "stdout",
     "output_type": "stream",
     "text": [
      "Requirement already satisfied: numpy in /projects/1108709f-2e8c-4e84-af0d-3a68ef8a314e/.sage/local/lib/python3.8/site-packages (1.20.1)\r\n"
     ]
    },
    {
     "name": "stdout",
     "output_type": "stream",
     "text": [
      "\u001b[33mWARNING: You are using pip version 20.2.3; however, version 21.0.1 is available.\r\n",
      "You should consider upgrading via the '/usr/local/sage/local/bin/python3 -m pip install --upgrade pip' command.\u001b[0m\r\n"
     ]
    },
    {
     "name": "stdout",
     "output_type": "stream",
     "text": [
      "Note: you may need to restart the kernel to use updated packages.\n"
     ]
    },
    {
     "name": "stdout",
     "output_type": "stream",
     "text": [
      "Defaulting to user installation because normal site-packages is not writeable\r\n"
     ]
    },
    {
     "name": "stdout",
     "output_type": "stream",
     "text": [
      "Requirement already satisfied: matplotlib in /projects/1108709f-2e8c-4e84-af0d-3a68ef8a314e/.sage/local/lib/python3.8/site-packages (3.3.4)\r\n",
      "Requirement already satisfied: kiwisolver>=1.0.1 in /usr/local/sage/local/lib/python3.8/site-packages (from matplotlib) (1.0.1)\r\n",
      "Requirement already satisfied: pyparsing!=2.0.4,!=2.1.2,!=2.1.6,>=2.0.3 in /usr/local/sage/local/lib/python3.8/site-packages (from matplotlib) (2.3.0)\r\n",
      "Requirement already satisfied: pillow>=6.2.0 in /usr/local/sage/local/lib/python3.8/site-packages (from matplotlib) (7.2.0)\r\n",
      "Requirement already satisfied: cycler>=0.10 in /usr/local/sage/local/lib/python3.8/site-packages (from matplotlib) (0.10.0)\r\n"
     ]
    },
    {
     "name": "stdout",
     "output_type": "stream",
     "text": [
      "Requirement already satisfied: numpy>=1.15 in /projects/1108709f-2e8c-4e84-af0d-3a68ef8a314e/.sage/local/lib/python3.8/site-packages (from matplotlib) (1.20.1)\r\n",
      "Requirement already satisfied: python-dateutil>=2.1 in /usr/local/sage/local/lib/python3.8/site-packages (from matplotlib) (2.8.1)\r\n",
      "Requirement already satisfied: setuptools in /usr/local/sage/local/lib/python3.8/site-packages (from kiwisolver>=1.0.1->matplotlib) (49.6.0)\r\n",
      "Requirement already satisfied: six in /usr/local/sage/local/lib/python3.8/site-packages (from cycler>=0.10->matplotlib) (1.15.0)\r\n"
     ]
    },
    {
     "name": "stdout",
     "output_type": "stream",
     "text": [
      "\u001b[33mWARNING: You are using pip version 20.2.3; however, version 21.0.1 is available.\r\n",
      "You should consider upgrading via the '/usr/local/sage/local/bin/python3 -m pip install --upgrade pip' command.\u001b[0m\r\n"
     ]
    },
    {
     "name": "stdout",
     "output_type": "stream",
     "text": [
      "Note: you may need to restart the kernel to use updated packages.\n"
     ]
    },
    {
     "name": "stdout",
     "output_type": "stream",
     "text": [
      "Defaulting to user installation because normal site-packages is not writeable\r\n"
     ]
    },
    {
     "name": "stdout",
     "output_type": "stream",
     "text": [
      "Requirement already satisfied: scipy in /projects/1108709f-2e8c-4e84-af0d-3a68ef8a314e/.sage/local/lib/python3.8/site-packages (1.6.1)\r\n",
      "Requirement already satisfied: numpy>=1.16.5 in /projects/1108709f-2e8c-4e84-af0d-3a68ef8a314e/.sage/local/lib/python3.8/site-packages (from scipy) (1.20.1)\r\n"
     ]
    },
    {
     "name": "stdout",
     "output_type": "stream",
     "text": [
      "\u001b[33mWARNING: You are using pip version 20.2.3; however, version 21.0.1 is available.\r\n",
      "You should consider upgrading via the '/usr/local/sage/local/bin/python3 -m pip install --upgrade pip' command.\u001b[0m\r\n"
     ]
    },
    {
     "name": "stdout",
     "output_type": "stream",
     "text": [
      "Note: you may need to restart the kernel to use updated packages.\n"
     ]
    },
    {
     "name": "stdout",
     "output_type": "stream",
     "text": [
      "Defaulting to user installation because normal site-packages is not writeable\r\n"
     ]
    },
    {
     "name": "stdout",
     "output_type": "stream",
     "text": [
      "Requirement already up-to-date: uproot in /projects/1108709f-2e8c-4e84-af0d-3a68ef8a314e/.sage/local/lib/python3.8/site-packages (4.0.6)\r\n"
     ]
    },
    {
     "name": "stdout",
     "output_type": "stream",
     "text": [
      "Requirement already up-to-date: awkward in /projects/1108709f-2e8c-4e84-af0d-3a68ef8a314e/.sage/local/lib/python3.8/site-packages (1.1.2)\r\n"
     ]
    },
    {
     "name": "stdout",
     "output_type": "stream",
     "text": [
      "Requirement already up-to-date: mplhep in /projects/1108709f-2e8c-4e84-af0d-3a68ef8a314e/.sage/local/lib/python3.8/site-packages (0.2.18)\r\n"
     ]
    },
    {
     "name": "stdout",
     "output_type": "stream",
     "text": [
      "Requirement already up-to-date: numpy in /projects/1108709f-2e8c-4e84-af0d-3a68ef8a314e/.sage/local/lib/python3.8/site-packages (1.20.1)\r\n"
     ]
    },
    {
     "name": "stdout",
     "output_type": "stream",
     "text": [
      "Requirement already up-to-date: matplotlib in /projects/1108709f-2e8c-4e84-af0d-3a68ef8a314e/.sage/local/lib/python3.8/site-packages (3.3.4)\r\n"
     ]
    },
    {
     "name": "stdout",
     "output_type": "stream",
     "text": [
      "Requirement already up-to-date: scipy in /projects/1108709f-2e8c-4e84-af0d-3a68ef8a314e/.sage/local/lib/python3.8/site-packages (1.6.1)\r\n",
      "Requirement already satisfied, skipping upgrade: setuptools in /usr/local/sage/local/lib/python3.8/site-packages (from awkward) (49.6.0)\r\n"
     ]
    },
    {
     "name": "stdout",
     "output_type": "stream",
     "text": [
      "Requirement already satisfied, skipping upgrade: packaging in /usr/local/sage/local/lib/python3.8/site-packages (from mplhep) (18.0)\r\n",
      "Requirement already satisfied, skipping upgrade: requests~=2.21 in /projects/1108709f-2e8c-4e84-af0d-3a68ef8a314e/.sage/local/lib/python3.8/site-packages (from mplhep) (2.25.1)\r\n"
     ]
    },
    {
     "name": "stdout",
     "output_type": "stream",
     "text": [
      "Requirement already satisfied, skipping upgrade: kiwisolver>=1.0.1 in /usr/local/sage/local/lib/python3.8/site-packages (from matplotlib) (1.0.1)\r\n",
      "Requirement already satisfied, skipping upgrade: pyparsing!=2.0.4,!=2.1.2,!=2.1.6,>=2.0.3 in /usr/local/sage/local/lib/python3.8/site-packages (from matplotlib) (2.3.0)\r\n",
      "Requirement already satisfied, skipping upgrade: pillow>=6.2.0 in /usr/local/sage/local/lib/python3.8/site-packages (from matplotlib) (7.2.0)\r\n",
      "Requirement already satisfied, skipping upgrade: python-dateutil>=2.1 in /usr/local/sage/local/lib/python3.8/site-packages (from matplotlib) (2.8.1)\r\n",
      "Requirement already satisfied, skipping upgrade: cycler>=0.10 in /usr/local/sage/local/lib/python3.8/site-packages (from matplotlib) (0.10.0)\r\n",
      "Requirement already satisfied, skipping upgrade: six in /usr/local/sage/local/lib/python3.8/site-packages (from packaging->mplhep) (1.15.0)\r\n",
      "Requirement already satisfied, skipping upgrade: chardet<5,>=3.0.2 in /projects/1108709f-2e8c-4e84-af0d-3a68ef8a314e/.sage/local/lib/python3.8/site-packages (from requests~=2.21->mplhep) (4.0.0)\r\n",
      "Requirement already satisfied, skipping upgrade: idna<3,>=2.5 in /projects/1108709f-2e8c-4e84-af0d-3a68ef8a314e/.sage/local/lib/python3.8/site-packages (from requests~=2.21->mplhep) (2.10)\r\n",
      "Requirement already satisfied, skipping upgrade: certifi>=2017.4.17 in /usr/local/sage/local/lib/python3.8/site-packages (from requests~=2.21->mplhep) (2020.6.20)\r\n",
      "Requirement already satisfied, skipping upgrade: urllib3<1.27,>=1.21.1 in /projects/1108709f-2e8c-4e84-af0d-3a68ef8a314e/.sage/local/lib/python3.8/site-packages (from requests~=2.21->mplhep) (1.26.4)\r\n"
     ]
    },
    {
     "name": "stdout",
     "output_type": "stream",
     "text": [
      "\u001b[33mWARNING: You are using pip version 20.2.3; however, version 21.0.1 is available.\r\n",
      "You should consider upgrading via the '/usr/local/sage/local/bin/python3 -m pip install --upgrade pip' command.\u001b[0m\r\n"
     ]
    },
    {
     "name": "stdout",
     "output_type": "stream",
     "text": [
      "Note: you may need to restart the kernel to use updated packages.\n"
     ]
    },
    {
     "name": "stdout",
     "output_type": "stream",
     "text": [
      "Defaulting to user installation because normal site-packages is not writeable\r\n"
     ]
    },
    {
     "name": "stdout",
     "output_type": "stream",
     "text": [
      "Collecting ipympl\r\n"
     ]
    },
    {
     "name": "stdout",
     "output_type": "stream",
     "text": [
      "  Downloading ipympl-0.7.0-py2.py3-none-any.whl (106 kB)\r\n",
      "\u001b[?25l\r\u001b[K     |███                             | 10 kB 19.1 MB/s eta 0:00:01\r\u001b[K     |██████▏                         | 20 kB 23.1 MB/s eta 0:00:01\r\u001b[K     |█████████▎                      | 30 kB 15.1 MB/s eta 0:00:01\r\u001b[K     |████████████▍                   | 40 kB 11.1 MB/s eta 0:00:01\r\u001b[K     |███████████████▍                | 51 kB 11.1 MB/s eta 0:00:01\r\u001b[K     |██████████████████▌             | 61 kB 10.9 MB/s eta 0:00:01\r\u001b[K     |█████████████████████▋          | 71 kB 11.9 MB/s eta 0:00:01\r\u001b[K     |████████████████████████▊       | 81 kB 12.2 MB/s eta 0:00:01\r\u001b[K     |███████████████████████████▊    | 92 kB 12.2 MB/s eta 0:00:01\r\u001b[K     |██████████████████████████████▉ | 102 kB 11.6 MB/s eta 0:00:01"
     ]
    },
    {
     "name": "stdout",
     "output_type": "stream",
     "text": [
      "\r\u001b[K     |████████████████████████████████| 106 kB 11.6 MB/s \r\n"
     ]
    },
    {
     "name": "stdout",
     "output_type": "stream",
     "text": [
      "\u001b[?25hRequirement already satisfied: matplotlib>=2.0.0 in /projects/1108709f-2e8c-4e84-af0d-3a68ef8a314e/.sage/local/lib/python3.8/site-packages (from ipympl) (3.3.4)\r\n"
     ]
    },
    {
     "name": "stdout",
     "output_type": "stream",
     "text": [
      "Collecting ipywidgets>=7.6.0\r\n",
      "  Downloading ipywidgets-7.6.3-py2.py3-none-any.whl (121 kB)\r\n",
      "\u001b[?25l\r\u001b[K     |██▊                             | 10 kB 17.9 MB/s eta 0:00:01\r\u001b[K     |█████▍                          | 20 kB 19.7 MB/s eta 0:00:01\r\u001b[K     |████████                        | 30 kB 22.4 MB/s eta 0:00:01\r\u001b[K     |██████████▊                     | 40 kB 25.3 MB/s eta 0:00:01\r\u001b[K     |█████████████▌                  | 51 kB 26.4 MB/s eta 0:00:01\r\u001b[K     |████████████████▏               | 61 kB 28.4 MB/s eta 0:00:01\r\u001b[K     |██████████████████▉             | 71 kB 22.1 MB/s eta 0:00:01\r\u001b[K     |█████████████████████▌          | 81 kB 23.4 MB/s eta 0:00:01\r\u001b[K     |████████████████████████▏       | 92 kB 24.6 MB/s eta 0:00:01\r\u001b[K     |███████████████████████████     | 102 kB 18.0 MB/s eta 0:00:01\r\u001b[K     |█████████████████████████████▋  | 112 kB 18.0 MB/s eta 0:00:01\r\u001b[K     |████████████████████████████████| 121 kB 18.0 MB/s \r\n"
     ]
    },
    {
     "name": "stdout",
     "output_type": "stream",
     "text": [
      "\u001b[?25hRequirement already satisfied: ipykernel>=4.7 in /usr/local/sage/local/lib/python3.8/site-packages (from ipympl) (5.2.1)\r\n",
      "Requirement already satisfied: python-dateutil>=2.1 in /usr/local/sage/local/lib/python3.8/site-packages (from matplotlib>=2.0.0->ipympl) (2.8.1)\r\n",
      "Requirement already satisfied: cycler>=0.10 in /usr/local/sage/local/lib/python3.8/site-packages (from matplotlib>=2.0.0->ipympl) (0.10.0)\r\n",
      "Requirement already satisfied: numpy>=1.15 in /projects/1108709f-2e8c-4e84-af0d-3a68ef8a314e/.sage/local/lib/python3.8/site-packages (from matplotlib>=2.0.0->ipympl) (1.20.1)\r\n",
      "Requirement already satisfied: pyparsing!=2.0.4,!=2.1.2,!=2.1.6,>=2.0.3 in /usr/local/sage/local/lib/python3.8/site-packages (from matplotlib>=2.0.0->ipympl) (2.3.0)\r\n",
      "Requirement already satisfied: pillow>=6.2.0 in /usr/local/sage/local/lib/python3.8/site-packages (from matplotlib>=2.0.0->ipympl) (7.2.0)\r\n"
     ]
    },
    {
     "name": "stdout",
     "output_type": "stream",
     "text": [
      "Requirement already satisfied: kiwisolver>=1.0.1 in /usr/local/sage/local/lib/python3.8/site-packages (from matplotlib>=2.0.0->ipympl) (1.0.1)\r\n",
      "Requirement already satisfied: widgetsnbextension~=3.5.0 in /usr/local/sage/local/lib/python3.8/site-packages (from ipywidgets>=7.6.0->ipympl) (3.5.1)\r\n"
     ]
    },
    {
     "name": "stdout",
     "output_type": "stream",
     "text": [
      "Collecting jupyterlab-widgets>=1.0.0; python_version >= \"3.6\"\r\n",
      "  Downloading jupyterlab_widgets-1.0.0-py3-none-any.whl (243 kB)\r\n",
      "\u001b[?25l"
     ]
    },
    {
     "name": "stdout",
     "output_type": "stream",
     "text": [
      "\r\u001b[K     |█▍                              | 10 kB 23.4 MB/s eta 0:00:01\r\u001b[K     |██▊                             | 20 kB 25.6 MB/s eta 0:00:01\r\u001b[K     |████                            | 30 kB 31.8 MB/s eta 0:00:01\r\u001b[K     |█████▍                          | 40 kB 33.9 MB/s eta 0:00:01\r\u001b[K     |██████▊                         | 51 kB 37.1 MB/s eta 0:00:01\r\u001b[K     |████████                        | 61 kB 39.8 MB/s eta 0:00:01\r\u001b[K     |█████████▍                      | 71 kB 19.7 MB/s eta 0:00:01\r\u001b[K     |██████████▊                     | 81 kB 21.2 MB/s eta 0:00:01\r\u001b[K     |████████████▏                   | 92 kB 20.9 MB/s eta 0:00:01\r\u001b[K     |█████████████▌                  | 102 kB 20.8 MB/s eta 0:00:01\r\u001b[K     |██████████████▉                 | 112 kB 20.8 MB/s eta 0:00:01\r\u001b[K     |████████████████▏               | 122 kB 20.8 MB/s eta 0:00:01\r\u001b[K     |█████████████████▌              | 133 kB 20.8 MB/s eta 0:00:01\r\u001b[K     |██████████████████▉             | 143 kB 20.8 MB/s eta 0:00:01\r\u001b[K     |████████████████████▏           | 153 kB 20.8 MB/s eta 0:00:01\r\u001b[K     |█████████████████████▌          | 163 kB 20.8 MB/s eta 0:00:01\r\u001b[K     |██████████████████████▉         | 174 kB 20.8 MB/s eta 0:00:01\r\u001b[K     |████████████████████████▎       | 184 kB 20.8 MB/s eta 0:00:01\r\u001b[K     |█████████████████████████▋      | 194 kB 20.8 MB/s eta 0:00:01\r\u001b[K     |███████████████████████████     | 204 kB 20.8 MB/s eta 0:00:01\r\u001b[K     |████████████████████████████▎   | 215 kB 20.8 MB/s eta 0:00:01\r\u001b[K     |█████████████████████████████▋  | 225 kB 20.8 MB/s eta 0:00:01\r\u001b[K     |███████████████████████████████ | 235 kB 20.8 MB/s eta 0:00:01\r\u001b[K     |████████████████████████████████| 243 kB 20.8 MB/s \r\n"
     ]
    },
    {
     "name": "stdout",
     "output_type": "stream",
     "text": [
      "\u001b[?25hRequirement already satisfied: nbformat>=4.2.0 in /usr/local/sage/local/lib/python3.8/site-packages (from ipywidgets>=7.6.0->ipympl) (5.0.7)\r\n",
      "Requirement already satisfied: traitlets>=4.3.1 in /usr/local/sage/local/lib/python3.8/site-packages (from ipywidgets>=7.6.0->ipympl) (4.3.3)\r\n",
      "Requirement already satisfied: ipython>=4.0.0; python_version >= \"3.3\" in /usr/local/sage/local/lib/python3.8/site-packages (from ipywidgets>=7.6.0->ipympl) (7.13.0)\r\n"
     ]
    },
    {
     "name": "stdout",
     "output_type": "stream",
     "text": [
      "Requirement already satisfied: jupyter-client in /usr/local/sage/local/lib/python3.8/site-packages (from ipykernel>=4.7->ipympl) (6.1.6)\r\n",
      "Requirement already satisfied: tornado>=4.2 in /usr/local/sage/local/lib/python3.8/site-packages (from ipykernel>=4.7->ipympl) (6.0.4)\r\n",
      "Requirement already satisfied: six>=1.5 in /usr/local/sage/local/lib/python3.8/site-packages (from python-dateutil>=2.1->matplotlib>=2.0.0->ipympl) (1.15.0)\r\n",
      "Requirement already satisfied: setuptools in /usr/local/sage/local/lib/python3.8/site-packages (from kiwisolver>=1.0.1->matplotlib>=2.0.0->ipympl) (49.6.0)\r\n"
     ]
    },
    {
     "name": "stdout",
     "output_type": "stream",
     "text": [
      "Requirement already satisfied: notebook>=4.4.1 in /usr/local/sage/local/lib/python3.8/site-packages (from widgetsnbextension~=3.5.0->ipywidgets>=7.6.0->ipympl) (6.1.1)\r\n",
      "Requirement already satisfied: jupyter-core in /usr/local/sage/local/lib/python3.8/site-packages (from nbformat>=4.2.0->ipywidgets>=7.6.0->ipympl) (4.6.3)\r\n",
      "Requirement already satisfied: jsonschema!=2.5.0,>=2.4 in /usr/local/sage/local/lib/python3.8/site-packages (from nbformat>=4.2.0->ipywidgets>=7.6.0->ipympl) (3.2.0)\r\n"
     ]
    },
    {
     "name": "stdout",
     "output_type": "stream",
     "text": [
      "Requirement already satisfied: ipython-genutils in /usr/local/sage/local/lib/python3.8/site-packages (from nbformat>=4.2.0->ipywidgets>=7.6.0->ipympl) (0.2.0)\r\n",
      "Requirement already satisfied: decorator in /usr/local/sage/local/lib/python3.8/site-packages (from traitlets>=4.3.1->ipywidgets>=7.6.0->ipympl) (4.4.0)\r\n",
      "Requirement already satisfied: prompt-toolkit!=3.0.0,!=3.0.1,<3.1.0,>=2.0.0 in /usr/local/sage/local/lib/python3.8/site-packages (from ipython>=4.0.0; python_version >= \"3.3\"->ipywidgets>=7.6.0->ipympl) (3.0.5)\r\n",
      "Requirement already satisfied: pygments in /usr/local/sage/local/lib/python3.8/site-packages (from ipython>=4.0.0; python_version >= \"3.3\"->ipywidgets>=7.6.0->ipympl) (2.3.1)\r\n",
      "Requirement already satisfied: backcall in /usr/local/sage/local/lib/python3.8/site-packages (from ipython>=4.0.0; python_version >= \"3.3\"->ipywidgets>=7.6.0->ipympl) (0.1.0)\r\n",
      "Requirement already satisfied: pickleshare in /usr/local/sage/local/lib/python3.8/site-packages (from ipython>=4.0.0; python_version >= \"3.3\"->ipywidgets>=7.6.0->ipympl) (0.7.5)\r\n",
      "Requirement already satisfied: pexpect; sys_platform != \"win32\" in /usr/local/sage/local/lib/python3.8/site-packages (from ipython>=4.0.0; python_version >= \"3.3\"->ipywidgets>=7.6.0->ipympl) (4.8.0)\r\n",
      "Requirement already satisfied: jedi>=0.10 in /usr/local/sage/local/lib/python3.8/site-packages (from ipython>=4.0.0; python_version >= \"3.3\"->ipywidgets>=7.6.0->ipympl) (0.17.0)\r\n"
     ]
    },
    {
     "name": "stdout",
     "output_type": "stream",
     "text": [
      "Requirement already satisfied: pyzmq>=13 in /usr/local/sage/local/lib/python3.8/site-packages (from jupyter-client->ipykernel>=4.7->ipympl) (19.0.2)\r\n"
     ]
    },
    {
     "name": "stdout",
     "output_type": "stream",
     "text": [
      "Collecting argon2-cffi\r\n",
      "  Downloading argon2_cffi-20.1.0-cp35-abi3-manylinux1_x86_64.whl (97 kB)\r\n",
      "\u001b[?25l\r\u001b[K     |███▍                            | 10 kB 34.3 MB/s eta 0:00:01\r\u001b[K     |██████▊                         | 20 kB 36.9 MB/s eta 0:00:01\r\u001b[K     |██████████                      | 30 kB 41.3 MB/s eta 0:00:01\r\u001b[K     |█████████████▍                  | 40 kB 45.1 MB/s eta 0:00:01\r\u001b[K     |████████████████▊               | 51 kB 29.1 MB/s eta 0:00:01\r\u001b[K     |████████████████████            | 61 kB 31.9 MB/s eta 0:00:01\r\u001b[K     |███████████████████████▍        | 71 kB 34.2 MB/s eta 0:00:01\r\u001b[K     |██████████████████████████▊     | 81 kB 36.7 MB/s eta 0:00:01\r\u001b[K     |██████████████████████████████  | 92 kB 24.8 MB/s eta 0:00:01\r\u001b[K     |████████████████████████████████| 97 kB 5.5 MB/s \r\n"
     ]
    },
    {
     "name": "stdout",
     "output_type": "stream",
     "text": [
      "\u001b[?25hRequirement already satisfied: prometheus-client in /usr/local/sage/local/lib/python3.8/site-packages (from notebook>=4.4.1->widgetsnbextension~=3.5.0->ipywidgets>=7.6.0->ipympl) (0.8.0)\r\n",
      "Requirement already satisfied: nbconvert in /usr/local/sage/local/lib/python3.8/site-packages (from notebook>=4.4.1->widgetsnbextension~=3.5.0->ipywidgets>=7.6.0->ipympl) (5.6.1)\r\n"
     ]
    },
    {
     "name": "stdout",
     "output_type": "stream",
     "text": [
      "Requirement already satisfied: terminado>=0.8.3 in /usr/local/sage/local/lib/python3.8/site-packages (from notebook>=4.4.1->widgetsnbextension~=3.5.0->ipywidgets>=7.6.0->ipympl) (0.8.3)\r\n",
      "Requirement already satisfied: Send2Trash in /usr/local/sage/local/lib/python3.8/site-packages (from notebook>=4.4.1->widgetsnbextension~=3.5.0->ipywidgets>=7.6.0->ipympl) (1.5.0)\r\n",
      "Requirement already satisfied: jinja2 in /usr/local/sage/local/lib/python3.8/site-packages (from notebook>=4.4.1->widgetsnbextension~=3.5.0->ipywidgets>=7.6.0->ipympl) (2.11.2)\r\n",
      "Requirement already satisfied: pyrsistent>=0.14.0 in /usr/local/sage/local/lib/python3.8/site-packages (from jsonschema!=2.5.0,>=2.4->nbformat>=4.2.0->ipywidgets>=7.6.0->ipympl) (0.16.0)\r\n",
      "Requirement already satisfied: attrs>=17.4.0 in /usr/local/sage/local/lib/python3.8/site-packages (from jsonschema!=2.5.0,>=2.4->nbformat>=4.2.0->ipywidgets>=7.6.0->ipympl) (19.3.0)\r\n"
     ]
    },
    {
     "name": "stdout",
     "output_type": "stream",
     "text": [
      "Requirement already satisfied: wcwidth in /usr/local/sage/local/lib/python3.8/site-packages (from prompt-toolkit!=3.0.0,!=3.0.1,<3.1.0,>=2.0.0->ipython>=4.0.0; python_version >= \"3.3\"->ipywidgets>=7.6.0->ipympl) (0.1.7)\r\n",
      "Requirement already satisfied: ptyprocess>=0.5 in /usr/local/sage/local/lib/python3.8/site-packages (from pexpect; sys_platform != \"win32\"->ipython>=4.0.0; python_version >= \"3.3\"->ipywidgets>=7.6.0->ipympl) (0.5.1)\r\n",
      "Requirement already satisfied: parso>=0.7.0 in /usr/local/sage/local/lib/python3.8/site-packages (from jedi>=0.10->ipython>=4.0.0; python_version >= \"3.3\"->ipywidgets>=7.6.0->ipympl) (0.7.0)\r\n",
      "Requirement already satisfied: cffi>=1.0.0 in /usr/local/sage/local/lib/python3.8/site-packages (from argon2-cffi->notebook>=4.4.1->widgetsnbextension~=3.5.0->ipywidgets>=7.6.0->ipympl) (1.14.0)\r\n",
      "Requirement already satisfied: defusedxml in /usr/local/sage/local/lib/python3.8/site-packages (from nbconvert->notebook>=4.4.1->widgetsnbextension~=3.5.0->ipywidgets>=7.6.0->ipympl) (0.6.0)\r\n",
      "Requirement already satisfied: pandocfilters>=1.4.1 in /usr/local/sage/local/lib/python3.8/site-packages (from nbconvert->notebook>=4.4.1->widgetsnbextension~=3.5.0->ipywidgets>=7.6.0->ipympl) (1.4.2)\r\n",
      "Requirement already satisfied: entrypoints>=0.2.2 in /usr/local/sage/local/lib/python3.8/site-packages (from nbconvert->notebook>=4.4.1->widgetsnbextension~=3.5.0->ipywidgets>=7.6.0->ipympl) (0.3)\r\n",
      "Requirement already satisfied: testpath in /usr/local/sage/local/lib/python3.8/site-packages (from nbconvert->notebook>=4.4.1->widgetsnbextension~=3.5.0->ipywidgets>=7.6.0->ipympl) (0.4.4)\r\n",
      "Requirement already satisfied: mistune<2,>=0.8.1 in /usr/local/sage/local/lib/python3.8/site-packages (from nbconvert->notebook>=4.4.1->widgetsnbextension~=3.5.0->ipywidgets>=7.6.0->ipympl) (0.8.4)\r\n",
      "Requirement already satisfied: bleach in /usr/local/sage/local/lib/python3.8/site-packages (from nbconvert->notebook>=4.4.1->widgetsnbextension~=3.5.0->ipywidgets>=7.6.0->ipympl) (3.1.5)\r\n",
      "Requirement already satisfied: MarkupSafe>=0.23 in /usr/local/sage/local/lib/python3.8/site-packages (from jinja2->notebook>=4.4.1->widgetsnbextension~=3.5.0->ipywidgets>=7.6.0->ipympl) (1.1.0)\r\n",
      "Requirement already satisfied: pycparser in /usr/local/sage/local/lib/python3.8/site-packages (from cffi>=1.0.0->argon2-cffi->notebook>=4.4.1->widgetsnbextension~=3.5.0->ipywidgets>=7.6.0->ipympl) (2.20)\r\n",
      "Requirement already satisfied: webencodings in /usr/local/sage/local/lib/python3.8/site-packages (from bleach->nbconvert->notebook>=4.4.1->widgetsnbextension~=3.5.0->ipywidgets>=7.6.0->ipympl) (0.5.1)\r\n"
     ]
    },
    {
     "name": "stdout",
     "output_type": "stream",
     "text": [
      "Requirement already satisfied: packaging in /usr/local/sage/local/lib/python3.8/site-packages (from bleach->nbconvert->notebook>=4.4.1->widgetsnbextension~=3.5.0->ipywidgets>=7.6.0->ipympl) (18.0)\r\n"
     ]
    },
    {
     "name": "stdout",
     "output_type": "stream",
     "text": [
      "Installing collected packages: jupyterlab-widgets, ipywidgets, ipympl, argon2-cffi\r\n"
     ]
    },
    {
     "name": "stdout",
     "output_type": "stream",
     "text": [
      "Successfully installed argon2-cffi-20.1.0 ipympl-0.7.0 ipywidgets-7.6.3 jupyterlab-widgets-1.0.0\r\n"
     ]
    },
    {
     "name": "stdout",
     "output_type": "stream",
     "text": [
      "\u001b[33mWARNING: You are using pip version 20.2.3; however, version 21.0.1 is available.\r\n",
      "You should consider upgrading via the '/usr/local/sage/local/bin/python3 -m pip install --upgrade pip' command.\u001b[0m\r\n"
     ]
    },
    {
     "name": "stdout",
     "output_type": "stream",
     "text": [
      "Note: you may need to restart the kernel to use updated packages.\n"
     ]
    }
   ],
   "source": [
    "%pip install seaborn\n",
    "%pip install uproot\n",
    "%pip install awkward\n",
    "%pip install mplhep\n",
    "%pip install numpy\n",
    "%pip install matplotlib\n",
    "%pip install scipy\n",
    "%pip install uproot awkward mplhep numpy matplotlib scipy --upgrade\n",
    "%pip install ipympl"
   ]
  },
  {
   "cell_type": "code",
   "execution_count": 27,
   "metadata": {
    "collapsed": false
   },
   "outputs": [
   ],
   "source": [
    "import numpy as np #Mathmatical functions\n",
    "import uproot\n",
    "import awkward as ak\n",
    "import mplhep\n",
    "#%matplotlib inline \n",
    "\n",
    "\n",
    "import ipywidgets as widgets\n",
    "\n",
    "import matplotlib.pyplot as plt #Plotting\n",
    "import seaborn as sb\n",
    "sb.set_style(\"darkgrid\")\n",
    "\n",
    "from scipy import optimize\n",
    "import scipy.odr as odr     # Fitting\n",
    "from scipy.odr import *\n",
    "from scipy.optimize import curve_fit\n",
    "import math\n",
    "\n",
    "from scipy.signal import argrelextrema  # For searching extrema"
   ]
  },
  {
   "cell_type": "code",
   "execution_count": 28,
   "metadata": {
    "collapsed": false
   },
   "outputs": [
   ],
   "source": [
    "# Events: Hadronic, Electronic, Muon, Tauon\n",
    "# Properties: Run, Event, Number of charged tracks (N_Ctrk), Sum of momentum of all charged tracks (P_Ctrk), Sum of energy in the electromagnetic calorimeter (E_Cal), Sum of the energy in the hadronic calorimeter (H_Cal), Counts in muon chamber (N_mu)\n",
    "# -> For each type of event a 7 x Number of events matrix/array"
   ]
  },
  {
   "cell_type": "code",
   "execution_count": 29,
   "metadata": {
    "collapsed": false
   },
   "outputs": [
    {
     "name": "stdout",
     "output_type": "stream",
     "text": [
      "30\n",
      "30\n",
      "30\n",
      "30\n"
     ]
    }
   ],
   "source": [
    "# All energies in GeV\n",
    "E_beam = 45.57\n",
    "\n",
    "electron_events = np.asarray([[5227,441,3,0,92,0.2,0],[5227,566,7,84.4,89.1,0.2,0],[5227,589,2,92.2,89.5,0.2,0],[5227,949,7,0,67.9,0,0],[5227,1247,3,78.5,90.3,0.3,0],[5227,1272,2,83.8,93.5,0.9,0],[5227,1297,5,0,75.3,0.8,0],[8227,1302,0,0,84.1,0.8,0],[5227,1319,2,71,91.6,1.8,0],[5227,1575,6,0,95.3,1.4,0],[5227,1672,2,71.6,92.2,0,0],[5227,1687,2,71.3,94.2,0.7,0],[5227,1862,2,74.4,88.5,0.3,0],[5227,1879,14,0,83.8,0.3,0],[5227,1886,2,83.2,91.2,0.3,0],[5227,1976,6,47.9,90.3,0.3,0],[5227,2197,5,65.1,92.5,0,0],[5227,2224,2,82.5,90.3,0.3,0],[5227,2273,4,0,91.1,2.2,0],[5227,2416,2,0,90.1,6.1,0],[5227,2433,2,0,97.3,0.3,0],[5227,2564,6,2,90.8,0.7,0],[5227,2571,2,59.9,92.3,0.3,0],[5227,2617,2,78.9,91,0.3,0],[5227,2767,5,0,86.4,0.3,0],[5227,2775,7,0,63.1,2.6,0],[5227,2819,2,90.2,91.2,0.3,0],[5227,2910,3,47.9,95.1,0,0],[5227,2938,2,85.8,83.1,0.9,0],[5227,5998,4,0,120.2,12.7,0]])\n",
    "\n",
    "tauon_events = np.asarray([[5227,714,4,43.8,8.2,2,0],[5227,934,2,31.4,36.1,0.2,0],[5227,984,2,43,31.7,2.4,1],[5227,1402,5,37.6,43,0.6,0],[5227,1524,2,55,49.7,36.8,0],[5227,1532,2,33.9,52,13.6,0],[5227,1663,3,0,31.1,0.3,0],[5227,2252,14,44.7,35.7,3.3,0],[5227,2564,6,2,90.8,0.7,0],[5227,2954,6,67,45,33.6,0],[5227,3913,2,99.3,16.6,16.8,2],[5227,4083,4,45.8,40.1,38.2,0],[5227,4628,8,0,70.8,0,0],[5227,4692,2,30.4,21.7,7.5,1],[5227,5753,2,41.1,40.6,2.6,1],[5227,5821,2,26.9,51.8,0,0],[5227,6533,4,64.6,29.8,9.2,0],[5227,6541,13,44.9,37.5,2.2,0],[5227,6724,2,25,44.9,4.1,1],[5227,7093,2,29.8,36.5,23.4,0],[5227,7228,4,42,42.4,0.5,0],[5227,7667,2,22.4,17.1,10.3,1],[5227,7877,4,13.1,29,0,0],[5227,8109,4,47.7,25.1,2,0],[5227,8485,2,30.4,24.4,0.8,0],[5227,9671,6,37,27.5,4.6,0],[5227,9731,2,52.2,30.6,2.3,1],[5227,9825,3,92.8,3.5,2.3,1],[5227,9918,2,93.6,4.1,0,0],[5227,9940,4,41.1,21.3,2.1,1]])\n",
    "\n",
    "hadronic_events = np.asarray([[5227,523,51,77.3,42.1,3.0,0], [5227,672,52,54.8,39.7,15.8,0], [5227,832,28,50,55.7,11.9,1], [5227,917,24,32,46.7,8.3,0], [5227,989,36,53.3,33.2,16.3,1], [5227,1140,28,13.9,58.4,5.5,2], [5227,1203,39,40.4,58.8,0.6,0], [5227,1288,21,43.3,50.8,203.9,0], [5227,1455,30,3.2,37.2,3.3,0], [5227,1586,22,293.1,52.9,15.7,0], [5227,1675,34,39.8,50.7,13.5,1], [5227,1837,39,72.0,41.4,25.0,1], [5227,1997,20,66.2,23.8,15.9,1], [5227,2109,25,49.7,37.8,48.7,1], [5227,2205,25,53.8,53.2,17.7,1], [5227,2320,53,13.2,51.5,6.0,0], [5227,2474,30,60.2,37.8,84.6,3], [5227,2658,37,18.9,58.8,9.0,0], [5227,2754,23,60.9,53.4,28.4,1], [5227,2884,27,48.7,57.0,9.5,1], [5227,2995,9,59.8,55.6,23.3,1], [5227,3184,31,58.6,43.9,29.3,2], [5227,3290,19,45.3,73.2,3.4,0], [5227,3473,33,51.3,48.1,35.5,1], [5227,3656,45,21.9,55.6,6.5,0], [5227,3762,27,52.9,59.7,22.1,2], [5227,3895,27,22.5,33.4,41.2,1], [5227,4471,24,67.6,50.0,22.8,2], [5227,4552,24,50.9,42.9,12.5,0], [5227,4716,40,52.6,57.1,2.4,0]]) # Event 5227:4046 No measurement for P_Ctrk -> Was excluded\n",
    "\n",
    "muon_events = np.asarray([[5227,1176,6,84.7,1.4,2.4,2], [5227,1326,2,89.5,1.6,13.4,2], [5227,1369,2,98.2,2.6,9.9,2], [5227,1384,2,105.1,1.8,6.6,2], [5227,1577,2,84.1,5.4,13.8,2], [5227,1851,2,88.1,1.5,3.5,2], [5227,2295,2,119.1,2.1,6.2,2], [5227,2443,4,87.3,5.3,30.3,2], [5227,2762,2,87.7,3.0,9.3,1], [5227,2911,2,87.0,1.8,10.0,2], [5227,3092,2,93.0,1.3,2.6,2], [5227,3112,2,80.9,3.1,4.7,1], [5227,3167,4,92.3,1.7,5.5,2], [5227,3245,2,89.0,3.1,5.3,3], [5227,3439,2,93.4,1.7,1.8,2], [5227,3595,7,94.3,1.3,3.9,2], [5227,3862,2,86.5,6.2,44.7,1], [5227,3981,2,90.3,2.5,18.8,2], [5227,4168,2,83.2,1.8,4.9,2], [5227,4196,2,96.1,1.8,10.7,3], [5227,5057,2,92.6,2.3,11.3,2], [5227,5397,2,87.3,10.6,9.7,2], [5227,5536,2,106.1,2.2,9.8,1], [5227,6116,2,92.7,1.6,7.2,2], [5227,6173,2,29.0,3.2,0.5,1], [5227,6358,2,82.8,1.7,5.3,3], [5227,6709,4,84.1,9.0,1.3,0], [5227,7097,2,90.5,1.3,9.1,2], [5227,7740,2,98.8,2.1,3.4,2], [5227,7956,4,95.0,4.0,5.4,2]])\n",
    "\n",
    "print(len(hadronic_events))\n",
    "print(len(muon_events))\n",
    "print(len(tauon_events))\n",
    "print(len(electron_events))\n",
    "\n"
   ]
  },
  {
   "cell_type": "code",
   "execution_count": 0,
   "metadata": {
    "collapsed": false
   },
   "outputs": [
   ],
   "source": [
   ]
  },
  {
   "cell_type": "code",
   "execution_count": 30,
   "metadata": {
    "collapsed": false
   },
   "outputs": [
    {
     "data": {
      "text/plain": [
       "<matplotlib.legend.Legend at 0x7f36c8ab5ac0>"
      ]
     },
     "execution_count": 30,
     "metadata": {
     },
     "output_type": "execute_result"
    },
    {
     "data": {
      "image/png": "[encoded data removed]",
      "text/plain": [
       "<Figure size 432x288 with 1 Axes>"
      ]
     },
     "execution_count": 30,
     "metadata": {
     },
     "output_type": "execute_result"
    }
   ],
   "source": [
    "# histogram (N_Ctrk)\n",
    "\n",
    "#Manually chosen bins (numbers define bin seperations)\n",
    "bins_N_Ctrk = np.asarray([-0.5,0.5,1.5,2.5,3.5,4.5,5.5,6.5,7.5,8.5,9.5,10.5,12.5,14.5,16.5,18.5,23.5,28.5,33.5,38.5,43.5,48.5,53.5])\n",
    "\n",
    "%matplotlib inline\n",
    "sb.set_style(\"darkgrid\")\n",
    "\n",
    "plt.hist((hadronic_events[:,2],muon_events[:,2],electron_events[:,2],tauon_events[:,2]), bins=bins_N_Ctrk, label=(\"Hadronic events\",\"Muon events\",\"Electron events\",\"Tauon events\"), stacked=True)\n",
    "\n",
    "plt.xlabel(\"Number of charged tracks\", fontsize=14)\n",
    "plt.ylabel(\"Counts\", fontsize=14)\n",
    "\n",
    "plt.legend(frameon=True, facecolor=\"lightgrey\", fontsize=12)"
   ]
  },
  {
   "cell_type": "code",
   "execution_count": 31,
   "metadata": {
    "collapsed": false
   },
   "outputs": [
   ],
   "source": [
    "#plt.savefig(\"name.PDF\")\n",
    "# activate for saving the picture if desired for the protocol - .PDF saves the figure with higher quality (compared to jpg or png)"
   ]
  },
  {
   "cell_type": "code",
   "execution_count": 32,
   "metadata": {
    "collapsed": false
   },
   "outputs": [
    {
     "data": {
      "text/plain": [
       "<matplotlib.legend.Legend at 0x7f36c8473730>"
      ]
     },
     "execution_count": 32,
     "metadata": {
     },
     "output_type": "execute_result"
    },
    {
     "data": {
      "image/png": "[encoded data removed]",
      "text/plain": [
       "<Figure size 432x288 with 1 Axes>"
      ]
     },
     "execution_count": 32,
     "metadata": {
     },
     "output_type": "execute_result"
    }
   ],
   "source": [
    "# histogram (P_Ctrk)\n",
    "%matplotlib inline\n",
    "sb.set_style(\"darkgrid\")\n",
    "\n",
    "plt.hist((hadronic_events[:,3],muon_events[:,3],electron_events[:,3],tauon_events[:,3]), range=(0,125), bins=50, label=(\"Hadronic events\",\"Muon events\",\"Electron events\",\"Tauon events\"), stacked=True) # range parameter is used to exclude single data point at 293.1 so the rest of the distribution is better visible\n",
    "\n",
    "plt.xlabel(\"Sum of momentum of all charged tracks\", fontsize=14) # Use shorter version in final figure. Which unit?\n",
    "plt.ylabel(\"Counts\", fontsize=14)\n",
    "\n",
    "plt.legend(frameon=True, facecolor=\"lightgrey\", fontsize=12)"
   ]
  },
  {
   "cell_type": "code",
   "execution_count": 33,
   "metadata": {
    "collapsed": false
   },
   "outputs": [
   ],
   "source": [
    "#plt.savefig(\"name.PDF\")"
   ]
  },
  {
   "cell_type": "code",
   "execution_count": 34,
   "metadata": {
    "collapsed": false
   },
   "outputs": [
    {
     "data": {
      "text/plain": [
       "<matplotlib.legend.Legend at 0x7f36c669e0a0>"
      ]
     },
     "execution_count": 34,
     "metadata": {
     },
     "output_type": "execute_result"
    },
    {
     "data": {
      "image/png": "[encoded data removed]",
      "text/plain": [
       "<Figure size 432x288 with 1 Axes>"
      ]
     },
     "execution_count": 34,
     "metadata": {
     },
     "output_type": "execute_result"
    }
   ],
   "source": [
    "# histogram (E_Cal)\n",
    "%matplotlib inline\n",
    "sb.set_style(\"darkgrid\")\n",
    "\n",
    "plt.hist((hadronic_events[:,4],muon_events[:,4],electron_events[:,4],tauon_events[:,4]), bins=50, label=(\"Hadronic events\",\"Muon events\",\"Electron events\",\"Tauon events\"), stacked=True) \n",
    "\n",
    "plt.xlabel(\"E_Cal [GeV]\", fontsize=14)\n",
    "plt.ylabel(\"Counts\", fontsize=14)\n",
    "\n",
    "plt.legend(frameon=True, facecolor=\"lightgrey\", fontsize=12)"
   ]
  },
  {
   "cell_type": "code",
   "execution_count": 35,
   "metadata": {
    "collapsed": false
   },
   "outputs": [
   ],
   "source": [
    "#plt.savefig(\"name.PDF\")"
   ]
  },
  {
   "cell_type": "code",
   "execution_count": 36,
   "metadata": {
    "collapsed": false
   },
   "outputs": [
    {
     "data": {
      "text/plain": [
       "<matplotlib.legend.Legend at 0x7f36c6673310>"
      ]
     },
     "execution_count": 36,
     "metadata": {
     },
     "output_type": "execute_result"
    },
    {
     "data": {
      "image/png": "[encoded data removed]",
      "text/plain": [
       "<Figure size 432x288 with 1 Axes>"
      ]
     },
     "execution_count": 36,
     "metadata": {
     },
     "output_type": "execute_result"
    }
   ],
   "source": [
    "# histogram (H_Cal)\n",
    "%matplotlib inline\n",
    "sb.set_style(\"darkgrid\")\n",
    "\n",
    "plt.hist((hadronic_events[:,5],muon_events[:,5],electron_events[:,5],tauon_events[:,5]), bins=50, range=(0,85), label=(\"Hadronic events\",\"Muon events\",\"Electron events\",\"Tauon events\"), stacked=True) # range is again to exclude a single point at around 200 GeV (more energy than we had initially) to focus the rest of the distribution - maybe exclude the point at little over 80 as well?\n",
    "\n",
    "plt.xlabel(\"H_Cal [GeV]\", fontsize=14)\n",
    "plt.ylabel(\"Counts\", fontsize=14)\n",
    "\n",
    "plt.legend(frameon=True, facecolor=\"lightgrey\", fontsize=12)"
   ]
  },
  {
   "cell_type": "code",
   "execution_count": 37,
   "metadata": {
    "collapsed": false
   },
   "outputs": [
   ],
   "source": [
    "#plt.savefig(\"name.PDF\")"
   ]
  },
  {
   "cell_type": "code",
   "execution_count": 38,
   "metadata": {
    "collapsed": false
   },
   "outputs": [
    {
     "data": {
      "text/plain": [
       "<matplotlib.legend.Legend at 0x7f36c8d0a730>"
      ]
     },
     "execution_count": 38,
     "metadata": {
     },
     "output_type": "execute_result"
    },
    {
     "data": {
      "image/png": "[encoded data removed]",
      "text/plain": [
       "<Figure size 432x288 with 1 Axes>"
      ]
     },
     "execution_count": 38,
     "metadata": {
     },
     "output_type": "execute_result"
    }
   ],
   "source": [
    "# histogram (N_Muon)\n",
    "\n",
    "#Manually chosen bins\n",
    "bins_N_Muon = np.asarray([-0.5,0.5,1.5,2.5,3.5,])\n",
    "\n",
    "%matplotlib inline\n",
    "sb.set_style(\"darkgrid\")\n",
    "\n",
    "plt.hist((hadronic_events[:,6],muon_events[:,6],electron_events[:,6],tauon_events[:,6]), bins=bins_N_Muon, rwidth=0.6, label=(\"Hadronic events\",\"Muon events\",\"Electron events\",\"Tauon events\"), stacked=True) # rwidth parameter determines the bar width.\n",
    "\n",
    "plt.xlabel(\"Number of detected muons\", fontsize=14)\n",
    "plt.ylabel(\"Counts\", fontsize=14)\n",
    "\n",
    "plt.legend(frameon=True, facecolor=\"lightgrey\", fontsize=12)"
   ]
  },
  {
   "cell_type": "code",
   "execution_count": 39,
   "metadata": {
    "collapsed": false
   },
   "outputs": [
   ],
   "source": [
    "#plt.savefig(\"name.PDF\")"
   ]
  },
  {
   "cell_type": "code",
   "execution_count": 74,
   "metadata": {
    "collapsed": false
   },
   "outputs": [
   ],
   "source": [
    "# First ideas for cuts: \n",
    "\n",
    "# E_Cal: Highest energies - electrons, lowest energies - muons\n",
    "# N_Ctrk. Highest Numbers - hadronic\n",
    "\n",
    "# Next step... Maybe ratios of several measurands? E.g. P_Ctrk/N_Ctrk giving the average momentum of the charged track detected. Possibly muon events are better distinguishable using this ratio than directly P_Ctrk?"
   ]
  },
  {
   "cell_type": "code",
   "execution_count": 75,
   "metadata": {
    "collapsed": false
   },
   "outputs": [
   ],
   "source": [
    "# Muon detection: low energy in E_cal (<15 GeV) and height P_Ctrk (>~80)\n",
    "# electron detection: high energy in E_cal (> 75 GeV)\n",
    "# Tauon detection : middle energy in E_cal (15-55 GeV)\n",
    "# Hadron detection: middle energy in E_cal (20-75 GeV)\n"
   ]
  },
  {
   "cell_type": "code",
   "execution_count": 100,
   "metadata": {
    "collapsed": false
   },
   "outputs": [
   ],
   "source": [
    "# Incorporate Monte-Carlo simulated data\n",
    "\n",
    "path_data = 'opal_data/mc/'\n",
    "\n",
    "mm_file = uproot.open(path_data+'mm.root')\n",
    "qq_file = uproot.open(path_data+'qq.root')\n",
    "ee_file = uproot.open(path_data+'ee.root')\n",
    "tt_file = uproot.open(path_data+'tt.root')\n",
    "\n",
    "ttree_name = 'myTTree'\n",
    "\n",
    "mm_file[ttree_name].keys()\n",
    "\n",
    "branches_mm = mm_file[ttree_name].arrays()\n",
    "branches_qq = qq_file[ttree_name].arrays()\n",
    "branches_ee = ee_file[ttree_name].arrays()\n",
    "branches_tt = tt_file[ttree_name].arrays()\n",
    "\n",
    "var_run = 'run'\n",
    "var_event = 'event'\n",
    "var_N_char = 'Ncharged'\n",
    "var_P_char = 'Pcharged'\n",
    "var_E_ecal = 'E_ecal'\n",
    "var_E_hcal = 'E_hcal'\n",
    "var_E_beam = 'E_lep'\n",
    "var_cos_thru = 'cos_thru'\n",
    "var_cos_thet = 'cos_thet'\n",
    "\n",
    "# arrays sorted by properties: run, event, N_char, P_char, E_ecal, E_hcal, E_beam, cos_thru, cos_thet\n",
    "qq=np.asarray([ak.to_numpy(branches_qq[var_run]),ak.to_numpy(branches_qq[var_event]),ak.to_numpy(branches_qq[var_N_char]),ak.to_numpy(branches_qq[var_P_char]),ak.to_numpy(branches_qq[var_E_ecal]),ak.to_numpy(branches_qq[var_E_hcal]),ak.to_numpy(branches_qq[var_E_beam]),ak.to_numpy(branches_qq[var_cos_thru]),ak.to_numpy(branches_qq[var_cos_thet])])\n",
    "mm=np.asarray([ak.to_numpy(branches_mm[var_run]),ak.to_numpy(branches_mm[var_event]),ak.to_numpy(branches_mm[var_N_char]),ak.to_numpy(branches_mm[var_P_char]),ak.to_numpy(branches_mm[var_E_ecal]),ak.to_numpy(branches_mm[var_E_hcal]),ak.to_numpy(branches_mm[var_E_beam]),ak.to_numpy(branches_mm[var_cos_thru]),ak.to_numpy(branches_mm[var_cos_thet])])\n",
    "ee=np.asarray([ak.to_numpy(branches_ee[var_run]),ak.to_numpy(branches_ee[var_event]),ak.to_numpy(branches_ee[var_N_char]),ak.to_numpy(branches_ee[var_P_char]),ak.to_numpy(branches_ee[var_E_ecal]),ak.to_numpy(branches_ee[var_E_hcal]),ak.to_numpy(branches_ee[var_E_beam]),ak.to_numpy(branches_ee[var_cos_thru]),ak.to_numpy(branches_ee[var_cos_thet])])\n",
    "tt=np.asarray([ak.to_numpy(branches_tt[var_run]),ak.to_numpy(branches_tt[var_event]),ak.to_numpy(branches_tt[var_N_char]),ak.to_numpy(branches_tt[var_P_char]),ak.to_numpy(branches_tt[var_E_ecal]),ak.to_numpy(branches_tt[var_E_hcal]),ak.to_numpy(branches_tt[var_E_beam]),ak.to_numpy(branches_tt[var_cos_thru]),ak.to_numpy(branches_tt[var_cos_thet])])"
   ]
  },
  {
   "cell_type": "code",
   "execution_count": 101,
   "metadata": {
    "collapsed": false
   },
   "outputs": [
    {
     "name": "stdout",
     "output_type": "stream",
     "text": [
      "0.0026262964243866944\n"
     ]
    }
   ],
   "source": [
    "# FB Asymmetry for muon events\n",
    "\n",
    "cos_thet_muons_1 = np.asarray([]) # Excluding the cos_thet = 999 data points\n",
    "for i in range (0, int(len(mm[8])-1.)):\n",
    "    if (mm[8][i]<=1):\n",
    "        cos_thet_muons_1 = np.append(cos_thet_muons_1, mm[8][i]) # Not perfectly elegant but working\n",
    "\n",
    "print(np.mean(cos_thet_muons_1))"
   ]
  },
  {
   "cell_type": "code",
   "execution_count": 73,
   "metadata": {
    "collapsed": false,
    "scrolled": true
   },
   "outputs": [
    {
     "name": "stdout",
     "output_type": "stream",
     "text": [
      "A total of 98537 out of 98563  events passed the cut 'mask_hadron_N_Ctrk'\n",
      "[-0.56434125  0.902914   -0.28037506 ... -0.77348113 -0.24306357\n",
      "  0.80955154]\n"
     ]
    }
   ],
   "source": [
    "## Create a mask for certain selection\n",
    "\n",
    "# For 'Data' being the array of distinguishable events with 7 entries (just like the preselected 'type_events' arrays)\n",
    "\n",
    "# For testing the code:\n",
    "# Data = np.asarray([[1,2,3],[12,24,23],[25,89,12]])\n",
    "\n",
    "mask_hadron_N_Ctrk = branches['Pcharged'] >= 1\n",
    "\n",
    "\n",
    "## The sum of this array provides the number of events that passed this cut\n",
    "print(\"A total of\", sum(mask_hadron_N_Ctrk), \"out of\", len(mask_hadron_N_Ctrk), \" events passed the cut 'mask_hadron_N_Ctrk'\")"
   ]
  },
  {
   "cell_type": "code",
   "execution_count": 112,
   "metadata": {
    "collapsed": false
   },
   "outputs": [
    {
     "name": "stdout",
     "output_type": "stream",
     "text": [
      "A total of 69478 out of 98563  events passed the cut 'mask_qq_N_Ctrk'\n",
      "[25. 17. 19. ... 27. 24. 21.]\n"
     ]
    },
    {
     "data": {
      "image/png": "[encoded data removed]",
      "text/plain": [
       "<Figure size 432x288 with 1 Axes>"
      ]
     },
     "execution_count": 112,
     "metadata": {
     },
     "output_type": "execute_result"
    }
   ],
   "source": [
    "# histogram (N_Ctrk) Monte Carlo data\n",
    "\n",
    "mask_qq_N_Ctrk = branches_qq[var_N_char] > 15\n",
    "\n",
    "qq_N = qq[2,:]\n",
    "qq_N = qq_N[qq_N > 15]\n",
    "\n",
    "#Manually chosen bins (numbers define bin seperations)\n",
    "bins_N_Ctrk = np.asarray([-0.5,0.5,1.5,2.5,3.5,4.5,5.5,6.5,7.5,8.5,9.5,10.5,12.5,14.5,16.5,18.5,23.5,28.5,33.5,38.5,43.5,48.5,53.5])\n",
    "bins_N_Ctrk_mc = np.linspace(0,40,81)\n",
    "\n",
    "%matplotlib inline\n",
    "sb.set_style(\"darkgrid\")\n",
    "\n",
    "plt.hist((qq[2,:],mm[2,:],tt[2,:],ee[2,:]), bins=bins_N_Ctrk_mc, label=(\"Hadronic events\",\"Muon events\",\"Electron events\",\"Tauon events\",'masked hadronic'), stacked=True)\n",
    "plt.hist((qq_N), bins=bins_N_Ctrk_mc, zorder=5, label=\"Hadronic events after cut\", stacked=True)\n",
    "plt.xlabel(\"Number of charged tracks\", fontsize=14)\n",
    "plt.ylabel(\"Counts\", fontsize=14)\n",
    "\n",
    "plt.legend(frameon=True, facecolor=\"lightgrey\", fontsize=12)\n",
    "\n",
    "print(\"A total of\", sum(mask_qq_N_Ctrk), \"out of\", len(mask_qq_N_Ctrk), \" events passed the cut 'mask_qq_N_Ctrk'\")\n",
    "print(qq_N)"
   ]
  },
  {
   "cell_type": "code",
   "execution_count": 0,
   "metadata": {
    "collapsed": false
   },
   "outputs": [
   ],
   "source": [
    "# histogram (E_Cal) Monte carlo data\n",
    "\n",
    "mask_ee_E_ecal = branches_ee[var_E_ecal] >75\n",
    "\n",
    "%matplotlib inline\n",
    "sb.set_style(\"darkgrid\")\n",
    "\n",
    "plt.hist((qq[4,:],mm[4,:],tt[4,:],ee[4,:],mask_ee_E_ecal), bins=50, label=(\"Hadronic events\",\"Muon events\",\"Electron events\",\"Tauon events\",'masked electronic'), stacked=True) \n",
    "\n",
    "plt.xlabel(\"E_Cal [GeV]\", fontsize=14)\n",
    "plt.ylabel(\"Counts\", fontsize=14)\n",
    "\n",
    "plt.legend(frameon=True, facecolor=\"lightgrey\", fontsize=12)"
   ]
  },
  {
   "cell_type": "code",
   "execution_count": 0,
   "metadata": {
    "collapsed": false
   },
   "outputs": [
   ],
   "source": [
    "# histogram (P_Ctrk) Monte carlo data\n",
    "\n",
    "mask_mm_P_char = branches_mm[var_P_char] >80\n",
    "\n",
    "%matplotlib inline\n",
    "sb.set_style(\"darkgrid\")\n",
    "\n",
    "plt.hist((qq[3,:],mm[3,:],tt[3,:],ee[3,:],mask_mm_P_char), range=(0,125), bins=50, label=(\"Hadronic events\",\"Muon events\",\"Electron events\",\"Tauon events\",\"masked muons\"), stacked=True) # range parameter is used to exclude single data point at 293.1 so the rest of the distribution is better visible\n",
    "\n",
    "plt.xlabel(\"Sum of momentum of all charged tracks\", fontsize=14) # Use shorter version in final figure. Which unit?\n",
    "plt.ylabel(\"Counts\", fontsize=14)\n",
    "\n",
    "plt.legend(frameon=True, facecolor=\"lightgrey\", fontsize=12)"
   ]
  },
  {
   "cell_type": "code",
   "execution_count": 0,
   "metadata": {
    "collapsed": false
   },
   "outputs": [
   ],
   "source": [
    "# histogram (H_Cal) Monte carlo data\n",
    "\n",
    "mask_E_hcal = branches_[var_E_hcal] \n",
    "\n",
    "%matplotlib inline\n",
    "sb.set_style(\"darkgrid\")\n",
    "\n",
    "plt.hist((qq[5,:],mm[5,:],tt[5,:],ee[5,:],mask_E_hcal), bins=50, range=(0,85), label=(\"Hadronic events\",\"Muon events\",\"Electron events\",\"Tauon events\",\"masked \"), stacked=True) # range is again to exclude a single point at around 200 GeV (more energy than we had initially) to focus the rest of the distribution - maybe exclude the point at little over 80 as well?\n",
    "\n",
    "plt.xlabel(\"H_Cal [GeV]\", fontsize=14)\n",
    "plt.ylabel(\"Counts\", fontsize=14)\n",
    "\n",
    "plt.legend(frameon=True, facecolor=\"lightgrey\", fontsize=12) "
   ]
  },
  {
   "cell_type": "code",
   "execution_count": 0,
   "metadata": {
    "collapsed": false
   },
   "outputs": [
   ],
   "source": [
    "# histogram (N_Muon) Monte carlo data\n",
    "\n",
    "\n",
    "%matplotlib inline\n",
    "sb.set_style(\"darkgrid\")\n",
    "\n",
    "plt.hist((qq[6,:],mm[6,:],tt[6,:],ee[6,:]), bins=50, rwidth=0.6, label=(\"Hadronic events\",\"Muon events\",\"Electron events\",\"Tauon events\"), stacked=True) # rwidth parameter determines the bar width.\n",
    "\n",
    "plt.xlabel(\"Half of centre of mass energy\", fontsize=14)\n",
    "plt.ylabel(\"Counts\", fontsize=14)\n",
    "\n",
    "plt.legend(frameon=True, facecolor=\"lightgrey\", fontsize=12)"
   ]
  }
 ],
 "metadata": {
  "kernelspec": {
   "display_name": "Python 3 (ROOT)",
   "language": "python",
   "name": "python3-root",
   "resource_dir": "/usr/local/share/jupyter/kernels/python3-root"
  },
  "language_info": {
   "codemirror_mode": {
    "name": "ipython",
    "version": 3
   },
   "file_extension": ".py",
   "mimetype": "text/x-python",
   "name": "python",
   "nbconvert_exporter": "python",
   "pygments_lexer": "ipython3",
   "version": "3.8.5"
  }
 },
 "nbformat": 4,
 "nbformat_minor": 4
}